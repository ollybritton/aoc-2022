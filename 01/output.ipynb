{
 "cells": [
  {
   "cell_type": "code",
   "execution_count": 28,
   "id": "c75bef9a-e7fb-4686-905c-f232db174850",
   "metadata": {},
   "outputs": [],
   "source": [
    "with open(\"input.txt\", \"r\") as f:\n",
    "    text = f.read()\n",
    "    groups = [group.split(\"\\n\") for group in text.split(\"\\n\\n\")]\n",
    "    numbers = [[int(y) for y in x if y != \"\"] for x in groups]\n",
    "    summed = list(map(sum, numbers))"
   ]
  },
  {
   "cell_type": "code",
   "execution_count": 29,
   "id": "e795d6b0-3ffa-4a60-b32b-077d356f546d",
   "metadata": {},
   "outputs": [
    {
     "data": {
      "text/plain": [
       "69912"
      ]
     },
     "execution_count": 29,
     "metadata": {},
     "output_type": "execute_result"
    }
   ],
   "source": [
    "max(summed)"
   ]
  },
  {
   "cell_type": "code",
   "execution_count": 32,
   "id": "48f984b0-7fca-4072-af99-1ce823810d76",
   "metadata": {},
   "outputs": [
    {
     "data": {
      "text/plain": [
       "208180"
      ]
     },
     "execution_count": 32,
     "metadata": {},
     "output_type": "execute_result"
    }
   ],
   "source": [
    "sum(sorted(summed, reverse=True)[:3])"
   ]
  },
  {
   "cell_type": "code",
   "execution_count": null,
   "id": "68ca4952-45cb-4e0f-a608-c8e30ba3ef20",
   "metadata": {},
   "outputs": [],
   "source": []
  }
 ],
 "metadata": {
  "kernelspec": {
   "display_name": "Python 3 (ipykernel)",
   "language": "python",
   "name": "python3"
  },
  "language_info": {
   "codemirror_mode": {
    "name": "ipython",
    "version": 3
   },
   "file_extension": ".py",
   "mimetype": "text/x-python",
   "name": "python",
   "nbconvert_exporter": "python",
   "pygments_lexer": "ipython3",
   "version": "3.10.7"
  }
 },
 "nbformat": 4,
 "nbformat_minor": 5
}
