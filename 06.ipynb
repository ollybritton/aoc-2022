{
 "cells": [
  {
   "cell_type": "code",
   "execution_count": 38,
   "id": "38abd9e0-be40-4892-a24f-64864de1843b",
   "metadata": {},
   "outputs": [],
   "source": [
    "from utils import *"
   ]
  },
  {
   "cell_type": "code",
   "execution_count": 62,
   "id": "eb476bc3-6fea-461b-a027-7cd6ba8967cf",
   "metadata": {},
   "outputs": [],
   "source": [
    "signal = get_input(6)"
   ]
  },
  {
   "cell_type": "code",
   "execution_count": 63,
   "id": "c6b4439d-9036-404e-a337-3e99bf235232",
   "metadata": {},
   "outputs": [],
   "source": [
    "start_of_packet_marker = 4\n",
    "\n",
    "while start_of_packet_marker <= len(signal):\n",
    "    segment = signal[start_of_packet_marker-4:start_of_packet_marker]\n",
    "\n",
    "    if len(set(list(segment))) == 4:\n",
    "        break\n",
    "        \n",
    "    start_of_packet_marker += 1"
   ]
  },
  {
   "cell_type": "code",
   "execution_count": 64,
   "id": "249e139b-b1cb-4643-a3b9-0d3247619dec",
   "metadata": {},
   "outputs": [
    {
     "data": {
      "text/plain": [
       "1238"
      ]
     },
     "execution_count": 64,
     "metadata": {},
     "output_type": "execute_result"
    }
   ],
   "source": [
    "start_of_packet_marker # part 1"
   ]
  },
  {
   "cell_type": "code",
   "execution_count": 65,
   "id": "2f2bec74-e6c2-40ab-83c0-631d2e69546d",
   "metadata": {},
   "outputs": [],
   "source": [
    "start_of_message_marker = 14\n",
    "\n",
    "while start_of_message_marker <= len(signal):\n",
    "    segment = signal[start_of_message_marker-14:start_of_message_marker]\n",
    "    \n",
    "    if len(set(list(segment))) == 14:\n",
    "        break\n",
    "        \n",
    "    start_of_message_marker += 1"
   ]
  },
  {
   "cell_type": "code",
   "execution_count": 66,
   "id": "3ef98b5d-4a66-4cc8-8ecf-73fc2479cc7d",
   "metadata": {},
   "outputs": [
    {
     "data": {
      "text/plain": [
       "3037"
      ]
     },
     "execution_count": 66,
     "metadata": {},
     "output_type": "execute_result"
    }
   ],
   "source": [
    "start_of_message_marker"
   ]
  },
  {
   "cell_type": "code",
   "execution_count": null,
   "id": "f3d3efd4-bd81-41b5-a019-e88e8638fe71",
   "metadata": {},
   "outputs": [],
   "source": []
  },
  {
   "cell_type": "code",
   "execution_count": null,
   "id": "15dc2898-7d86-4199-abc0-47bea7cecc70",
   "metadata": {},
   "outputs": [],
   "source": []
  }
 ],
 "metadata": {
  "kernelspec": {
   "display_name": "Python 3 (ipykernel)",
   "language": "python",
   "name": "python3"
  },
  "language_info": {
   "codemirror_mode": {
    "name": "ipython",
    "version": 3
   },
   "file_extension": ".py",
   "mimetype": "text/x-python",
   "name": "python",
   "nbconvert_exporter": "python",
   "pygments_lexer": "ipython3",
   "version": "3.10.7"
  }
 },
 "nbformat": 4,
 "nbformat_minor": 5
}
