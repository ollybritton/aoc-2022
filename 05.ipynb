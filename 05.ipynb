{
 "cells": [
  {
   "cell_type": "code",
   "execution_count": 1,
   "id": "6f931be6-2a71-4ed7-bfeb-b3d3dcb0830d",
   "metadata": {},
   "outputs": [],
   "source": [
    "from utils import *"
   ]
  },
  {
   "cell_type": "code",
   "execution_count": 2,
   "id": "8eb6b5a3-69fc-4a8c-aa49-4993f8177fd7",
   "metadata": {},
   "outputs": [],
   "source": [
    "raw_lines = get_input_lines(5)"
   ]
  },
  {
   "cell_type": "code",
   "execution_count": 3,
   "id": "bdc4fa96-2519-4093-b83e-c7e18ad28e8b",
   "metadata": {},
   "outputs": [],
   "source": [
    "raw_stacks = []\n",
    "raw_moves = []\n",
    "number_of_stacks = 0\n",
    "\n",
    "for i, line in enumerate(raw_lines):\n",
    "    if line.startswith(\" 1\"):\n",
    "        raw_stacks = raw_lines[:i]\n",
    "        raw_moves = raw_lines[i+2:]\n",
    "        \n",
    "        number_of_stacks = int(line.strip()[-1])\n",
    "        \n",
    "        break"
   ]
  },
  {
   "cell_type": "code",
   "execution_count": 4,
   "id": "e9658345-0759-4695-ac21-1d8b169abf04",
   "metadata": {},
   "outputs": [
    {
     "data": {
      "text/plain": [
       "['                [V]     [C]     [M]',\n",
       " '[V]     [J]     [N]     [H]     [V]',\n",
       " '[R] [F] [N]     [W]     [Z]     [N]',\n",
       " '[H] [R] [D]     [Q] [M] [L]     [B]',\n",
       " '[B] [C] [H] [V] [R] [C] [G]     [R]',\n",
       " '[G] [G] [F] [S] [D] [H] [B] [R] [S]',\n",
       " '[D] [N] [S] [D] [H] [G] [J] [J] [G]',\n",
       " '[W] [J] [L] [J] [S] [P] [F] [S] [L]']"
      ]
     },
     "execution_count": 4,
     "metadata": {},
     "output_type": "execute_result"
    }
   ],
   "source": [
    "raw_stacks"
   ]
  },
  {
   "cell_type": "code",
   "execution_count": 5,
   "id": "f409a6cc-7875-4d4b-975f-ab9dc31e1cf5",
   "metadata": {},
   "outputs": [
    {
     "data": {
      "text/plain": [
       "9"
      ]
     },
     "execution_count": 5,
     "metadata": {},
     "output_type": "execute_result"
    }
   ],
   "source": [
    "number_of_stacks"
   ]
  },
  {
   "cell_type": "code",
   "execution_count": 6,
   "id": "aa6cce9d-ab90-4a90-b9bf-8702539c0aec",
   "metadata": {},
   "outputs": [],
   "source": [
    "# remove extra spaces and brackets\n",
    "cleaned_stacks = []\n",
    "\n",
    "for line in raw_stacks:\n",
    "    i = 1\n",
    "    curr_stack = []\n",
    "    \n",
    "    while i <= len(line)+1:\n",
    "        curr_stack.append(line[i])\n",
    "        i += 4\n",
    "        \n",
    "    cleaned_stacks.append(curr_stack)"
   ]
  },
  {
   "cell_type": "code",
   "execution_count": 7,
   "id": "52c56fa4-437b-4c90-9606-de3d973eb00a",
   "metadata": {},
   "outputs": [],
   "source": [
    "def transpose(list2d):\n",
    "    return list(zip(*list2d))"
   ]
  },
  {
   "cell_type": "code",
   "execution_count": 8,
   "id": "ac4f2904-9522-4023-8a64-d8831410f432",
   "metadata": {},
   "outputs": [
    {
     "data": {
      "text/plain": [
       "[['V', 'R', 'H', 'B', 'G', 'D', 'W'],\n",
       " ['F', 'R', 'C', 'G', 'N', 'J'],\n",
       " ['J', 'N', 'D', 'H', 'F', 'S', 'L'],\n",
       " ['V', 'S', 'D', 'J'],\n",
       " ['V', 'N', 'W', 'Q', 'R', 'D', 'H', 'S'],\n",
       " ['M', 'C', 'H', 'G', 'P'],\n",
       " ['C', 'H', 'Z', 'L', 'G', 'B', 'J', 'F'],\n",
       " ['R', 'J', 'S'],\n",
       " ['M', 'V', 'N', 'B', 'R', 'S', 'G', 'L']]"
      ]
     },
     "execution_count": 8,
     "metadata": {},
     "output_type": "execute_result"
    }
   ],
   "source": [
    "stacks = [list(filter(lambda char: char != \" \", x)) for x in transpose(cleaned_stacks)]\n",
    "stacks"
   ]
  },
  {
   "cell_type": "code",
   "execution_count": 9,
   "id": "24e28d70-3413-4ca2-81d6-7457b9c510fe",
   "metadata": {},
   "outputs": [
    {
     "data": {
      "text/plain": [
       "[['V', 'R', 'H', 'B', 'G', 'D', 'W'],\n",
       " ['F', 'R', 'C', 'G', 'N', 'J'],\n",
       " ['J', 'N', 'D', 'H', 'F', 'S', 'L'],\n",
       " ['V', 'S', 'D', 'J'],\n",
       " ['V', 'N', 'W', 'Q', 'R', 'D', 'H', 'S'],\n",
       " ['M', 'C', 'H', 'G', 'P'],\n",
       " ['C', 'H', 'Z', 'L', 'G', 'B', 'J', 'F'],\n",
       " ['R', 'J', 'S'],\n",
       " ['M', 'V', 'N', 'B', 'R', 'S', 'G', 'L']]"
      ]
     },
     "execution_count": 9,
     "metadata": {},
     "output_type": "execute_result"
    }
   ],
   "source": [
    "moves = [] # list of tuples like (amount to move, from stack, to stack)\n",
    "for line in raw_moves:\n",
    "    line = line.strip(\"move\")\n",
    "    line = line.replace(\" from \", \"-\")\n",
    "    line = line.replace(\" to \", \"-\")\n",
    "    \n",
    "    nums = tuple(map(int, line.split(\"-\")))\n",
    "    moves.append(nums)\n",
    "    \n",
    "stacks"
   ]
  },
  {
   "cell_type": "code",
   "execution_count": 10,
   "id": "6a1b71bb-8f58-41ee-a090-59995445e743",
   "metadata": {},
   "outputs": [],
   "source": [
    "single_move_stacks = [stack.copy() for stack in stacks]\n",
    "\n",
    "for amount_to_move, from_stack, to_stack in moves:\n",
    "    popped = []\n",
    "    \n",
    "    for _ in range(amount_to_move):\n",
    "        popped.append(single_move_stacks[from_stack-1].pop(0))\n",
    "        \n",
    "    single_move_stacks[to_stack-1] = popped[::-1] + single_move_stacks[to_stack-1]"
   ]
  },
  {
   "cell_type": "code",
   "execution_count": 11,
   "id": "d056af5a-04b2-4278-b762-f62108ed254a",
   "metadata": {},
   "outputs": [
    {
     "name": "stdout",
     "output_type": "stream",
     "text": [
      "JRVNHHCSJ\n"
     ]
    }
   ],
   "source": [
    "part_1 = \"\".join([stack[0] for stack in single_move_stacks]) # part 1\n",
    "print(part_1)"
   ]
  },
  {
   "cell_type": "code",
   "execution_count": 12,
   "id": "4263a078-97ce-491c-b36b-9a4d084e8e00",
   "metadata": {},
   "outputs": [],
   "source": [
    "multi_move_stacks = [stack.copy() for stack in stacks]\n",
    "\n",
    "for amount_to_move, from_stack, to_stack in moves:\n",
    "    popped = []\n",
    "    \n",
    "    for _ in range(amount_to_move):\n",
    "        popped.append(multi_move_stacks[from_stack-1].pop(0))\n",
    "        \n",
    "    multi_move_stacks[to_stack-1] = popped + multi_move_stacks[to_stack-1]"
   ]
  },
  {
   "cell_type": "code",
   "execution_count": 13,
   "id": "dd244777-d5d9-43cd-aa6e-365e2f40b88b",
   "metadata": {},
   "outputs": [
    {
     "name": "stdout",
     "output_type": "stream",
     "text": [
      "GNFBSBJLH\n"
     ]
    }
   ],
   "source": [
    "part_2 = \"\".join([stack[0] for stack in multi_move_stacks]) # part 2\n",
    "print(part_2)"
   ]
  },
  {
   "cell_type": "code",
   "execution_count": null,
   "id": "78999958-1d5e-4d67-b308-a999a1840183",
   "metadata": {},
   "outputs": [],
   "source": []
  }
 ],
 "metadata": {
  "kernelspec": {
   "display_name": "Python 3 (ipykernel)",
   "language": "python",
   "name": "python3"
  },
  "language_info": {
   "codemirror_mode": {
    "name": "ipython",
    "version": 3
   },
   "file_extension": ".py",
   "mimetype": "text/x-python",
   "name": "python",
   "nbconvert_exporter": "python",
   "pygments_lexer": "ipython3",
   "version": "3.10.7"
  }
 },
 "nbformat": 4,
 "nbformat_minor": 5
}
