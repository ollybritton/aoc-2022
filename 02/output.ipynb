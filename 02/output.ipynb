{
 "cells": [
  {
   "cell_type": "code",
   "execution_count": 8,
   "id": "3b942d30-d4ab-4e56-8894-b0f8b7073268",
   "metadata": {},
   "outputs": [],
   "source": [
    "with open(\"input.txt\") as f:\n",
    "    raw_text = f.read()\n",
    "    \n",
    "outcomes_part1 = {\n",
    "    \"A X\": (1, 3),\n",
    "    \"A Y\": (2, 6),\n",
    "    \"A Z\": (3, 0),\n",
    "    \"B X\": (1, 0),\n",
    "    \"B Y\": (2, 3),\n",
    "    \"B Z\": (3, 6),\n",
    "    \"C X\": (1, 6),\n",
    "    \"C Y\": (2, 0),\n",
    "    \"C Z\": (3, 3)\n",
    "}\n",
    "\n",
    "total1 = sum([sum(outcomes_part1[x.strip()]) for x in raw_text.split(\"\\n\") if x != \"\"])"
   ]
  },
  {
   "cell_type": "code",
   "execution_count": 9,
   "id": "d90fd191-1615-42b1-8d91-891a911a798b",
   "metadata": {},
   "outputs": [
    {
     "data": {
      "text/plain": [
       "10310"
      ]
     },
     "execution_count": 9,
     "metadata": {},
     "output_type": "execute_result"
    }
   ],
   "source": [
    "total1"
   ]
  },
  {
   "cell_type": "code",
   "execution_count": 13,
   "id": "03c7ef22-2485-4bd2-8c5a-9fcfa429f7c6",
   "metadata": {},
   "outputs": [],
   "source": [
    "outcomes_part2 = {\n",
    "    \"A X\": (3, 0), # R, lose 0 => S +3\n",
    "    \"A Y\": (1, 3), # R, draw 3 => R +1 \n",
    "    \"A Z\": (2, 6), # R, win 6 => P +2\n",
    "    \"B X\": (1, 0),\n",
    "    \"B Y\": (2, 3),\n",
    "    \"B Z\": (3, 6),\n",
    "    \"C X\": (2, 0),\n",
    "    \"C Y\": (3, 3),\n",
    "    \"C Z\": (1, 6)\n",
    "}\n",
    "\n",
    "total2 = sum([sum(outcomes_part2[x.strip()]) for x in raw_text.split(\"\\n\") if x != \"\"])"
   ]
  },
  {
   "cell_type": "code",
   "execution_count": 14,
   "id": "19c49093-af54-418b-afed-c3763053a428",
   "metadata": {},
   "outputs": [
    {
     "data": {
      "text/plain": [
       "14859"
      ]
     },
     "execution_count": 14,
     "metadata": {},
     "output_type": "execute_result"
    }
   ],
   "source": [
    "total2"
   ]
  },
  {
   "cell_type": "code",
   "execution_count": null,
   "id": "8b378920-6ea8-44e1-8f1f-df9459eb4d56",
   "metadata": {},
   "outputs": [],
   "source": []
  }
 ],
 "metadata": {
  "kernelspec": {
   "display_name": "Python 3 (ipykernel)",
   "language": "python",
   "name": "python3"
  },
  "language_info": {
   "codemirror_mode": {
    "name": "ipython",
    "version": 3
   },
   "file_extension": ".py",
   "mimetype": "text/x-python",
   "name": "python",
   "nbconvert_exporter": "python",
   "pygments_lexer": "ipython3",
   "version": "3.10.7"
  }
 },
 "nbformat": 4,
 "nbformat_minor": 5
}
