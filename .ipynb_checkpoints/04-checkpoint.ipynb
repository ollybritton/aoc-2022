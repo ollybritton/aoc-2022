{
 "cells": [
  {
   "cell_type": "code",
   "execution_count": 1,
   "id": "bff7f938-bf18-43b3-95a0-ba4c66a097dc",
   "metadata": {},
   "outputs": [],
   "source": [
    "from utils import *"
   ]
  },
  {
   "cell_type": "code",
   "execution_count": 2,
   "id": "c38ccdc6-c818-432d-8776-0b664ee56871",
   "metadata": {},
   "outputs": [],
   "source": [
    "sections = get_input_lines(4)"
   ]
  },
  {
   "cell_type": "code",
   "execution_count": 3,
   "id": "0f189111-04b1-4619-8904-fa84699595c7",
   "metadata": {},
   "outputs": [],
   "source": [
    "intervals = [line.split(\",\") for line in sections]\n",
    "\n",
    "for i, pair in enumerate(intervals):\n",
    "    first = tuple(map(int, pair[0].split(\"-\")))\n",
    "    second = tuple(map(int, pair[1].split(\"-\")))\n",
    "    \n",
    "    intervals[i] = first, second"
   ]
  },
  {
   "cell_type": "code",
   "execution_count": 4,
   "id": "28ac38e9-93fd-41ef-bfa7-dbf098a77180",
   "metadata": {},
   "outputs": [
    {
     "data": {
      "text/plain": [
       "[((51, 88), (52, 87)),\n",
       " ((41, 55), (22, 56)),\n",
       " ((6, 74), (74, 86)),\n",
       " ((51, 98), (52, 86)),\n",
       " ((8, 77), (3, 94))]"
      ]
     },
     "execution_count": 4,
     "metadata": {},
     "output_type": "execute_result"
    }
   ],
   "source": [
    "intervals[:5]"
   ]
  },
  {
   "cell_type": "code",
   "execution_count": 5,
   "id": "7d2fc35b-6b5d-453a-ae79-a42f5b70cf0e",
   "metadata": {},
   "outputs": [],
   "source": [
    "fully_contained = 0\n",
    "\n",
    "for pair in intervals:\n",
    "    sign_first = pair[0][0] - pair[1][0]\n",
    "    sign_second = pair[0][1] - pair[1][1]\n",
    "    \n",
    "    if sign_first <= 0 and sign_second >= 0:\n",
    "        fully_contained += 1\n",
    "    elif sign_first >= 0 and sign_second <= 0:\n",
    "        fully_contained += 1"
   ]
  },
  {
   "cell_type": "code",
   "execution_count": 6,
   "id": "1a14d132-70c9-4acf-b66e-3c5dd82cf3d9",
   "metadata": {},
   "outputs": [
    {
     "data": {
      "text/plain": [
       "487"
      ]
     },
     "execution_count": 6,
     "metadata": {},
     "output_type": "execute_result"
    }
   ],
   "source": [
    "fully_contained # part 1"
   ]
  },
  {
   "cell_type": "code",
   "execution_count": 7,
   "id": "d96fbf50-bab7-4355-9fe2-3e44fcf5bf50",
   "metadata": {},
   "outputs": [],
   "source": [
    "overlap = 0\n",
    "\n",
    "for pair in intervals:\n",
    "    x0, x1 = pair[0][0], pair[0][1]\n",
    "    y0, y1 = pair[1][0], pair[1][1]\n",
    "    \n",
    "    if (x0 <= y0 and y0 <= x1) or (y0 <= x0 and x0 <= y1):\n",
    "        overlap += 1"
   ]
  },
  {
   "cell_type": "code",
   "execution_count": 8,
   "id": "c495d388-431e-4cbc-9583-4a3054525ace",
   "metadata": {},
   "outputs": [
    {
     "data": {
      "text/plain": [
       "849"
      ]
     },
     "execution_count": 8,
     "metadata": {},
     "output_type": "execute_result"
    }
   ],
   "source": [
    "overlap # part 2"
   ]
  },
  {
   "cell_type": "code",
   "execution_count": null,
   "id": "e217bdcc-91bd-4b7a-98ca-9d0dfb00ad85",
   "metadata": {},
   "outputs": [],
   "source": []
  }
 ],
 "metadata": {
  "kernelspec": {
   "display_name": "Python 3 (ipykernel)",
   "language": "python",
   "name": "python3"
  },
  "language_info": {
   "codemirror_mode": {
    "name": "ipython",
    "version": 3
   },
   "file_extension": ".py",
   "mimetype": "text/x-python",
   "name": "python",
   "nbconvert_exporter": "python",
   "pygments_lexer": "ipython3",
   "version": "3.10.7"
  }
 },
 "nbformat": 4,
 "nbformat_minor": 5
}
