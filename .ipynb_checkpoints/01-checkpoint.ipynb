{
 "cells": [
  {
   "cell_type": "code",
   "execution_count": 1,
   "id": "d5a49edc-3c4f-4383-a631-59818a505a3d",
   "metadata": {},
   "outputs": [],
   "source": [
    "from utils import *"
   ]
  },
  {
   "cell_type": "code",
   "execution_count": 2,
   "id": "c75bef9a-e7fb-4686-905c-f232db174850",
   "metadata": {},
   "outputs": [],
   "source": [
    "text = get_input(1)\n",
    "groups = [group.split(\"\\n\") for group in text.split(\"\\n\\n\")]\n",
    "numbers = [[int(y) for y in x if y != \"\"] for x in groups]\n",
    "summed = list(map(sum, numbers))"
   ]
  },
  {
   "cell_type": "code",
   "execution_count": 3,
   "id": "e795d6b0-3ffa-4a60-b32b-077d356f546d",
   "metadata": {},
   "outputs": [
    {
     "data": {
      "text/plain": [
       "69912"
      ]
     },
     "execution_count": 3,
     "metadata": {},
     "output_type": "execute_result"
    }
   ],
   "source": [
    "max(summed)"
   ]
  },
  {
   "cell_type": "code",
   "execution_count": 4,
   "id": "48f984b0-7fca-4072-af99-1ce823810d76",
   "metadata": {},
   "outputs": [
    {
     "data": {
      "text/plain": [
       "208180"
      ]
     },
     "execution_count": 4,
     "metadata": {},
     "output_type": "execute_result"
    }
   ],
   "source": [
    "sum(sorted(summed, reverse=True)[:3])"
   ]
  },
  {
   "cell_type": "code",
   "execution_count": 5,
   "id": "68ca4952-45cb-4e0f-a608-c8e30ba3ef20",
   "metadata": {},
   "outputs": [],
   "source": [
    "import sys"
   ]
  },
  {
   "cell_type": "code",
   "execution_count": 6,
   "id": "9d5e981a-c800-4178-b214-499d48449380",
   "metadata": {},
   "outputs": [
    {
     "data": {
      "text/plain": [
       "['/home/olly/code/notebooks/aoc-2022',\n",
       " '/usr/lib/python310.zip',\n",
       " '/usr/lib/python3.10',\n",
       " '/usr/lib/python3.10/lib-dynload',\n",
       " '',\n",
       " '/home/olly/.local/lib/python3.10/site-packages',\n",
       " '/usr/lib/python3.10/site-packages']"
      ]
     },
     "execution_count": 6,
     "metadata": {},
     "output_type": "execute_result"
    }
   ],
   "source": [
    "sys.path"
   ]
  },
  {
   "cell_type": "code",
   "execution_count": null,
   "id": "91297064-011e-4ec5-9f20-7e3f8e55ac30",
   "metadata": {},
   "outputs": [],
   "source": []
  }
 ],
 "metadata": {
  "kernelspec": {
   "display_name": "Python 3 (ipykernel)",
   "language": "python",
   "name": "python3"
  },
  "language_info": {
   "codemirror_mode": {
    "name": "ipython",
    "version": 3
   },
   "file_extension": ".py",
   "mimetype": "text/x-python",
   "name": "python",
   "nbconvert_exporter": "python",
   "pygments_lexer": "ipython3",
   "version": "3.10.7"
  }
 },
 "nbformat": 4,
 "nbformat_minor": 5
}
