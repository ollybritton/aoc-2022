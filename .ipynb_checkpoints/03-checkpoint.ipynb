{
 "cells": [
  {
   "cell_type": "code",
   "execution_count": 2,
   "id": "eb57f411-4fb4-4512-ab23-a450415b01f0",
   "metadata": {},
   "outputs": [],
   "source": [
    "from utils import *"
   ]
  },
  {
   "cell_type": "code",
   "execution_count": 3,
   "id": "ef549988-7090-4f82-8e7b-4884ce145c27",
   "metadata": {},
   "outputs": [],
   "source": [
    "rucksacks = get_input_lines(3)\n",
    "halves = [(set(x[:len(x)//2]), set(x[len(x)//2:])) for x in rucksacks]\n",
    "shared = [list(x[0].intersection(x[1]))[0] for x in halves]\n",
    "convert = lambda c: ord(c) - 65 + 27 if c.isupper() else ord(c) - 97 + 1\n",
    "numbers = [convert(x) for x in shared]"
   ]
  },
  {
   "cell_type": "code",
   "execution_count": 4,
   "id": "62888798-1cbb-40db-be27-4017cf991cc7",
   "metadata": {},
   "outputs": [
    {
     "data": {
      "text/plain": [
       "7674"
      ]
     },
     "execution_count": 4,
     "metadata": {},
     "output_type": "execute_result"
    }
   ],
   "source": [
    "sum(numbers)"
   ]
  },
  {
   "cell_type": "code",
   "execution_count": 5,
   "id": "e3c79e19-ca62-487b-8ca8-68412a9e00ce",
   "metadata": {},
   "outputs": [],
   "source": [
    "def chunk(xs, size):\n",
    "    if len(xs) < 3:\n",
    "        return [] # Never happens as length is always a multiple of three\n",
    "    \n",
    "    tail = chunk(xs[3:], 3)\n",
    "    \n",
    "    if tail == []:\n",
    "        return [xs[:3]]\n",
    "    else:\n",
    "        return [xs[:3]] + tail"
   ]
  },
  {
   "cell_type": "code",
   "execution_count": 6,
   "id": "d3042ea4-bdf4-4615-b525-f24582dd91ff",
   "metadata": {},
   "outputs": [],
   "source": [
    "groups = chunk(rucksacks, 3)"
   ]
  },
  {
   "cell_type": "code",
   "execution_count": 7,
   "id": "bdb2ec85-730e-4096-a3bc-cdb04a64e4bb",
   "metadata": {},
   "outputs": [],
   "source": [
    "common = [list(set(x[0]).intersection(set(x[1])).intersection(set(x[2])))[0] for x in groups]"
   ]
  },
  {
   "cell_type": "code",
   "execution_count": 8,
   "id": "03d10637-073d-4dbf-bf71-46d5b838ad2b",
   "metadata": {},
   "outputs": [
    {
     "data": {
      "text/plain": [
       "2805"
      ]
     },
     "execution_count": 8,
     "metadata": {},
     "output_type": "execute_result"
    }
   ],
   "source": [
    "sum(map(convert, common))"
   ]
  },
  {
   "cell_type": "code",
   "execution_count": null,
   "id": "2726e242-f23d-4be6-a50c-74f17e0e4663",
   "metadata": {},
   "outputs": [],
   "source": []
  }
 ],
 "metadata": {
  "kernelspec": {
   "display_name": "Python 3 (ipykernel)",
   "language": "python",
   "name": "python3"
  },
  "language_info": {
   "codemirror_mode": {
    "name": "ipython",
    "version": 3
   },
   "file_extension": ".py",
   "mimetype": "text/x-python",
   "name": "python",
   "nbconvert_exporter": "python",
   "pygments_lexer": "ipython3",
   "version": "3.10.7"
  }
 },
 "nbformat": 4,
 "nbformat_minor": 5
}
