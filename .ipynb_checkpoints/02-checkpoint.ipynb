{
 "cells": [
  {
   "cell_type": "code",
   "execution_count": 2,
   "id": "0d2bd32c-4878-4c43-abe9-72a8cf536d2b",
   "metadata": {},
   "outputs": [],
   "source": [
    "from utils import *"
   ]
  },
  {
   "cell_type": "code",
   "execution_count": 3,
   "id": "bc55a48c-4608-4eda-b182-8e9dfdc821ca",
   "metadata": {},
   "outputs": [],
   "source": [
    "raw_text = get_input(2)"
   ]
  },
  {
   "cell_type": "code",
   "execution_count": 4,
   "id": "3b942d30-d4ab-4e56-8894-b0f8b7073268",
   "metadata": {},
   "outputs": [],
   "source": [
    "outcomes_part1 = {\n",
    "    \"A X\": (1, 3),\n",
    "    \"A Y\": (2, 6),\n",
    "    \"A Z\": (3, 0),\n",
    "    \"B X\": (1, 0),\n",
    "    \"B Y\": (2, 3),\n",
    "    \"B Z\": (3, 6),\n",
    "    \"C X\": (1, 6),\n",
    "    \"C Y\": (2, 0),\n",
    "    \"C Z\": (3, 3)\n",
    "}\n",
    "\n",
    "total1 = sum([sum(outcomes_part1[x.strip()]) for x in raw_text.split(\"\\n\") if x != \"\"])"
   ]
  },
  {
   "cell_type": "code",
   "execution_count": 5,
   "id": "d90fd191-1615-42b1-8d91-891a911a798b",
   "metadata": {},
   "outputs": [
    {
     "data": {
      "text/plain": [
       "10310"
      ]
     },
     "execution_count": 5,
     "metadata": {},
     "output_type": "execute_result"
    }
   ],
   "source": [
    "total1"
   ]
  },
  {
   "cell_type": "code",
   "execution_count": 6,
   "id": "03c7ef22-2485-4bd2-8c5a-9fcfa429f7c6",
   "metadata": {},
   "outputs": [],
   "source": [
    "outcomes_part2 = {\n",
    "    \"A X\": (3, 0), # R, lose 0 => S +3\n",
    "    \"A Y\": (1, 3), # R, draw 3 => R +1 \n",
    "    \"A Z\": (2, 6), # R, win 6 => P +2\n",
    "    \"B X\": (1, 0),\n",
    "    \"B Y\": (2, 3),\n",
    "    \"B Z\": (3, 6),\n",
    "    \"C X\": (2, 0),\n",
    "    \"C Y\": (3, 3),\n",
    "    \"C Z\": (1, 6)\n",
    "}\n",
    "\n",
    "total2 = sum([sum(outcomes_part2[x.strip()]) for x in raw_text.split(\"\\n\") if x != \"\"])"
   ]
  },
  {
   "cell_type": "code",
   "execution_count": 7,
   "id": "19c49093-af54-418b-afed-c3763053a428",
   "metadata": {},
   "outputs": [
    {
     "data": {
      "text/plain": [
       "14859"
      ]
     },
     "execution_count": 7,
     "metadata": {},
     "output_type": "execute_result"
    }
   ],
   "source": [
    "total2"
   ]
  }
 ],
 "metadata": {
  "kernelspec": {
   "display_name": "Python 3 (ipykernel)",
   "language": "python",
   "name": "python3"
  },
  "language_info": {
   "codemirror_mode": {
    "name": "ipython",
    "version": 3
   },
   "file_extension": ".py",
   "mimetype": "text/x-python",
   "name": "python",
   "nbconvert_exporter": "python",
   "pygments_lexer": "ipython3",
   "version": "3.10.7"
  }
 },
 "nbformat": 4,
 "nbformat_minor": 5
}
